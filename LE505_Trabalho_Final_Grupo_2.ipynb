{
  "nbformat": 4,
  "nbformat_minor": 0,
  "metadata": {
    "colab": {
      "provenance": [],
      "include_colab_link": true
    },
    "kernelspec": {
      "name": "python3",
      "display_name": "Python 3"
    },
    "language_info": {
      "name": "python"
    }
  },
  "cells": [
    {
      "cell_type": "markdown",
      "metadata": {
        "id": "view-in-github",
        "colab_type": "text"
      },
      "source": [
        "<a href=\"https://colab.research.google.com/github/Vinisenso/Lotsizing_problem_Textile_Factory/blob/main/LE505_Trabalho_Final_Grupo_2.ipynb\" target=\"_parent\"><img src=\"https://colab.research.google.com/assets/colab-badge.svg\" alt=\"Open In Colab\"/></a>"
      ]
    },
    {
      "cell_type": "markdown",
      "source": [
        "Grupo 2:\n",
        "\n",
        "- Augusto Chebel Machado  RA: 231762\n",
        "\n",
        "- João Pedro Marretto Helmeister RA: 174564\n",
        "\n",
        "- Lucas Massabni Busnardo RA: 182516\n",
        "\n",
        "- Matheus Rodrigues  RA: 185315\n",
        "\n",
        "- Nathan Czelusniak de Siqueira RA: 186041\n",
        " \n",
        "- Vinícius Consentino Muniz RA: 245271\n",
        "\n"
      ],
      "metadata": {
        "id": "74LXJOhWhqb1"
      }
    },
    {
      "cell_type": "code",
      "execution_count": null,
      "metadata": {
        "id": "wBErdW9Azgm4"
      },
      "outputs": [],
      "source": [
        "# Instalando duas bibliotecas: ortools serve para usar ferramentas de PO e gspread para importar os dados do Google Sheets.\n",
        "\n",
        "!pip install ortools --quiet\n",
        "!pip install gspread"
      ]
    },
    {
      "cell_type": "code",
      "source": [
        "#Código que importa dados do Google Sheets\n",
        "\n",
        "from google.colab import auth\n",
        "auth.authenticate_user()\n",
        "\n",
        "import gspread\n",
        "from google.auth import default\n",
        "creds, _ = default()\n",
        "\n",
        "gc = gspread.authorize(creds)"
      ],
      "metadata": {
        "id": "cv4fgCJ00Bzf"
      },
      "execution_count": null,
      "outputs": []
    },
    {
      "cell_type": "code",
      "source": [
        "#Importando outras bibliotecas importantes para o problema.\n",
        "\n",
        "import pandas as pd\n",
        "import numpy as np\n",
        "from ortools.linear_solver import pywraplp\n",
        "from google.colab import files\n",
        "import matplotlib.pyplot as plt\n",
        "\n"
      ],
      "metadata": {
        "id": "R4CGKxl4zq89"
      },
      "execution_count": null,
      "outputs": []
    },
    {
      "cell_type": "code",
      "source": [
        "# Importando os nossos dados do problema\n",
        "\n",
        "worksheet = gc.open('ER460 - Matriz de Decisão (Escolha de um Automóvel)').sheet1\n",
        "\n",
        "# Fazendo um Data Frame dos nossos dados. # Mostra a planilha com os dados completos (nome+valores)\n",
        "df = pd.DataFrame(worksheet.get_all_records())\n",
        "df"
      ],
      "metadata": {
        "id": "foEt_6Wv2Xaq",
        "outputId": "675505d9-9715-43e5-c5d4-b026a7d6f449",
        "colab": {
          "base_uri": "https://localhost:8080/",
          "height": 236
        }
      },
      "execution_count": null,
      "outputs": [
        {
          "output_type": "error",
          "ename": "NameError",
          "evalue": "ignored",
          "traceback": [
            "\u001b[0;31m---------------------------------------------------------------------------\u001b[0m",
            "\u001b[0;31mNameError\u001b[0m                                 Traceback (most recent call last)",
            "\u001b[0;32m<ipython-input-1-32b710d5b264>\u001b[0m in \u001b[0;36m<module>\u001b[0;34m\u001b[0m\n\u001b[1;32m      1\u001b[0m \u001b[0;31m# Importando os nossos dados do problema\u001b[0m\u001b[0;34m\u001b[0m\u001b[0;34m\u001b[0m\u001b[0;34m\u001b[0m\u001b[0m\n\u001b[1;32m      2\u001b[0m \u001b[0;34m\u001b[0m\u001b[0m\n\u001b[0;32m----> 3\u001b[0;31m \u001b[0mworksheet\u001b[0m \u001b[0;34m=\u001b[0m \u001b[0mgc\u001b[0m\u001b[0;34m.\u001b[0m\u001b[0mopen\u001b[0m\u001b[0;34m(\u001b[0m\u001b[0;34m'ER460 - Matriz de Decisão (Escolha de um Automóvel)'\u001b[0m\u001b[0;34m)\u001b[0m\u001b[0;34m.\u001b[0m\u001b[0msheet1\u001b[0m\u001b[0;34m\u001b[0m\u001b[0;34m\u001b[0m\u001b[0m\n\u001b[0m\u001b[1;32m      4\u001b[0m \u001b[0;34m\u001b[0m\u001b[0m\n\u001b[1;32m      5\u001b[0m \u001b[0;31m# Fazendo um Data Frame dos nossos dados. # Mostra a planilha com os dados completos (nome+valores)\u001b[0m\u001b[0;34m\u001b[0m\u001b[0;34m\u001b[0m\u001b[0;34m\u001b[0m\u001b[0m\n",
            "\u001b[0;31mNameError\u001b[0m: name 'gc' is not defined"
          ]
        }
      ]
    },
    {
      "cell_type": "code",
      "source": [
        "# Importanto dados de um arquivo excel.\n",
        "\n",
        "#Professor, caso seja necessário importar os dados de um arquivo excel, você pode tirar as \"#\" do código abaixo. Além disso, faça o upload do arquivo excel na aba no canto esquerdo da página, onde tem um ícone de documento, por favor.\n",
        "\n",
        "# df0=pd.read_excel(\"Dados Trabalho de PO Completo 2022.xlsx\", index_col = \"xit\")\n",
        "# df0"
      ],
      "metadata": {
        "id": "Zm29Ri4d36jD"
      },
      "execution_count": null,
      "outputs": []
    },
    {
      "cell_type": "code",
      "source": [
        "#Tirando a coluna 1 do nosso data frame, a qual possuia o nome das peças. Queremos trabalhar apenas com os dados numéricos a partir de agora.\n",
        "\n",
        "df=df0.drop(columns=\"xit\")\n",
        "df"
      ],
      "metadata": {
        "id": "YQDOviUfTTd5"
      },
      "execution_count": null,
      "outputs": []
    },
    {
      "cell_type": "code",
      "source": [
        "# Indentificando colunas importantes para a resolução do trabalho com os nomes técnicos, os quais vão ser usados ao longo do código.\n",
        "\n",
        "columns = df.columns\n",
        "\n",
        "#coluna\n",
        "\n",
        "nome_fi = \"fi\"\n",
        "nome_vcit = \"vcit\"\n",
        "nome_vtit = \"vtit\"\n",
        "nome_stit = \"stit\"\n",
        "nome_hcit = \"hcit\"\n",
        "nome_scit = \"scit\"\n",
        "\n",
        "\n",
        "fi = columns.get_loc(nome_fi)\n",
        "vcit = columns.get_loc(nome_vcit)\n",
        "vtit = columns.get_loc(nome_vtit)\n",
        "stit = columns.get_loc(nome_stit)\n",
        "hcit = columns.get_loc(nome_hcit)\n",
        "scit = columns.get_loc(nome_scit)\n",
        "\n",
        "#column_index\n",
        "\n",
        "print(\"Index da coluna\", nome_fi, \"é\" , fi)\n",
        "print(\"Index da coluna\", nome_vcit, \"é\" , vcit)\n",
        "print(\"Index da coluna\", nome_vtit, \"é\" , vtit)\n",
        "print(\"Index da coluna\", nome_stit, \"é\" , stit)\n",
        "print(\"Index da coluna\", nome_scit, \"é\" , scit)\n",
        "print(\"Index da coluna\", nome_hcit, \"é\" , hcit)\n"
      ],
      "metadata": {
        "id": "X19MBhI7Vqxj"
      },
      "execution_count": null,
      "outputs": []
    },
    {
      "cell_type": "code",
      "source": [
        "#Transformando os dados em um Array\n",
        "matriz=df.to_numpy()\n"
      ],
      "metadata": {
        "id": "Xz5aG2X05M8g"
      },
      "execution_count": null,
      "outputs": []
    },
    {
      "cell_type": "code",
      "source": [
        "#Criando um problema em PO\n",
        "solver = pywraplp.Solver.CreateSolver('SCIP') # O SCIP é o Solver que resolve o problema inteiro."
      ],
      "metadata": {
        "id": "zrjmJdqV7791"
      },
      "execution_count": null,
      "outputs": []
    },
    {
      "cell_type": "code",
      "source": [
        "# Adicionando as variáveis\n",
        "\n",
        "maq = 2\n",
        "\n",
        "x= {(i,k,t):solver.IntVar(lb=0,ub=solver.infinity(),name=f'x_{i+1}_{k+1}_{t+1}') # xikt: quantidade produzida de cada produto i na máquina k no período t\n",
        "      for i in range(len(matriz))\n",
        "      for k in range(0,maq)\n",
        "      for t in range(0,12)}\n",
        "print(x)\n",
        "\n",
        "i=0\n",
        "h = {(i,t):solver.IntVar(lb=0,ub=solver.infinity(),name=f'h_{i+1}_{t}') # hit: quantidade estocada de cada produto i no período t.\n",
        "      for i in range(len(matriz))\n",
        "      for t in range(0,13)}\n",
        "print(h)\n",
        "\n",
        "i=0\n",
        "y= {(i,k,t):solver.BoolVar(name=f'y_{i+1}_{k+1}_{t+1}')  # yikt: variável binária indicando se foi ou não produzido o produto i na máquina k no período t.\n",
        "        for i in range(len(matriz))\n",
        "        for k in range(0,maq)\n",
        "        for t in range(0,12)}\n",
        "print(y)"
      ],
      "metadata": {
        "id": "ILHArj3Y8Z-9"
      },
      "execution_count": null,
      "outputs": []
    },
    {
      "cell_type": "code",
      "source": [
        "# Adicionando a função objetivo do problema.\n",
        "\n",
        "solver.Maximize(sum(x[(i,k,t)]*(matriz[i][fi]-matriz[i][vcit]) for i in range(0,len(matriz)) for k in range (0,maq) for t in range(0,12))-\n",
        "                sum(h[(i,t)]*(matriz[i][hcit]) for i in range(0,len(matriz)) for t in range(0,13))-\n",
        "                sum(y[(i,k,t)]*(matriz[i][scit]) for i in range(0,len(matriz)) for k in range (0,maq) for t in range(0,12)))\n",
        "print(solver.ExportModelAsLpFormat(obfuscated=False))"
      ],
      "metadata": {
        "id": "LK9_vjJ8ozG_"
      },
      "execution_count": null,
      "outputs": []
    },
    {
      "cell_type": "code",
      "source": [
        "#Adicionando as restrições de estoque\n",
        "for i in range(len(matriz)):\n",
        "  for t in range(0,12):\n",
        "    solver.Add(sum(x[(i,k,t)] for k in range (0,maq)) + h[(i,t)] == matriz[i][t] + h[(i,t+1)])"
      ],
      "metadata": {
        "id": "-FUklaJXnm5O"
      },
      "execution_count": null,
      "outputs": []
    },
    {
      "cell_type": "code",
      "source": [
        "#Adicionando a restrição que não posso produzir mais do que preciso\n",
        "for i in range(len(matriz)):\n",
        "  for k in range(0, maq):\n",
        "    for t in range(0,12):\n",
        "      solver.Add(x[(i,k,t)] <= sum(matriz[i][t:12])*y[(i,k,t)])"
      ],
      "metadata": {
        "id": "n4zdAMlWPWGS"
      },
      "execution_count": null,
      "outputs": []
    },
    {
      "cell_type": "code",
      "source": [
        "# Adicionando a restrição da disponibilidade de tempo\n",
        "\n",
        "#Quem quiser pode variar as horas e os dias na semana que a empresa trabalha para avaliar cenários variados\n",
        "\n",
        "min=60 # Quantos minutos tem 1 hora.\n",
        "ho=24 # Horas no dia que a máquina trabalha\n",
        "d=24  # Dias no mês que a máquina trabalha\n",
        "\n",
        "Cap=d*ho*min \n",
        "print(f'O total de minutos que a máquina vai operar neste dia é {Cap} minutos.')\n",
        "\n",
        "for t in range(0,12):\n",
        "  for k in range(0,maq):\n",
        "    solver.Add(sum(x[(i,k,t)]*matriz[i][vtit] for i in range(0,len(matriz)))+ sum(y[(i,k,t)]*matriz[i][stit] for i in range(0,len(matriz)))<=Cap)"
      ],
      "metadata": {
        "id": "QdkN0vzwRXPv"
      },
      "execution_count": null,
      "outputs": []
    },
    {
      "cell_type": "code",
      "source": [
        "#Zerando o estoque inicial e final pois se trata de um problema com horizonte temporal finito\n",
        "\n",
        "t_estoque_0=[0,12]\n",
        "\n",
        "for i in range(0,len(matriz)):\n",
        "  for t in t_estoque_0:\n",
        "    solver.Add(h[(i,t)]==0)"
      ],
      "metadata": {
        "id": "FvWfJlFhUXAg"
      },
      "execution_count": null,
      "outputs": []
    },
    {
      "cell_type": "markdown",
      "source": [
        "**Estruturação:**"
      ],
      "metadata": {
        "id": "mw_DYFO2H2Ik"
      }
    },
    {
      "cell_type": "code",
      "source": [
        "# Mostra a formulação final do problema com a quantidade de variáveis e restrições.\n",
        "\n",
        "print(solver.ExportModelAsLpFormat(obfuscated=False))"
      ],
      "metadata": {
        "id": "sYrcOZwhMjWp"
      },
      "execution_count": null,
      "outputs": []
    },
    {
      "cell_type": "markdown",
      "source": [
        "**Resultados:**"
      ],
      "metadata": {
        "id": "atdgVSotH968"
      }
    },
    {
      "cell_type": "code",
      "source": [
        "#Pedindo para o Solver resolver o problema.\n",
        "solver.Solve();"
      ],
      "metadata": {
        "id": "HH6M2fU6XFT1"
      },
      "execution_count": null,
      "outputs": []
    },
    {
      "cell_type": "code",
      "source": [
        "# Printando o resultado do problema\n",
        "\n",
        "obj=solver.Objective().Value()\n",
        "print(f'A empresa teve um lucro maximizado de {obj} reais\\n')\n",
        "c=0\n",
        "d=0\n",
        "f=0\n",
        "#Printando os valores das variáveis diferentes de 0.\n",
        "print('\\nProdutos produzidos em cada período e máquina e sua respectiva quantidade:\\n')\n",
        "for i in x.values():\n",
        "  if i.solution_value() > 0:\n",
        "    print(i,'=',i.solution_value())\n",
        "    c+=1\n",
        "print(f'\\nHouve {c} processos produtivos no ano, calculado a partir da variável xit.\\n')  \n",
        "\n",
        "\n",
        "print('\\nProdutos estocados em cada período e sua respectiva quantidade:\\n')\n",
        "for i in h.values():\n",
        "  if i.solution_value() > 0:\n",
        "    print(i,'=',i.solution_value())\n",
        "    d+=1\n",
        "print(f'\\nHouve {d} processos de estoque no ano.\\n')  \n",
        "\n",
        "print('\\n Períodos e máquinas em que cada produto foi produzido:\\n')\n",
        "for i in y.values():\n",
        "  if i.solution_value() > 0:\n",
        "    print(i,'=',i.solution_value())\n",
        "    f+=1\n",
        "print(f'\\nHouve {f} processos produtivos no ano, calculados pela variável yikt, valor consoante ao calculado a partir do xikt.\\n')      \n",
        "\n",
        "\n",
        "\n",
        "\n",
        "\n"
      ],
      "metadata": {
        "id": "2kaVnVGzXRbD"
      },
      "execution_count": null,
      "outputs": []
    },
    {
      "cell_type": "code",
      "source": [
        "#Parâmetros de desempenho do modelo:\n",
        "\n",
        "print(f'Os parâmetros de desempenho do modelo com {maq} máquina(s) são:')\n",
        "print('\\nO problema resolvido em %d iterações.' % solver.iterations())\n",
        "print(f'\\nO tempo computacional exigido para o código é: {round(solver.wall_time()/1000,2)} s.')\n",
        "print(f'\\nO número de nós exigidos no método Branch and Bound é {solver.nodes()} nós.')\n"
      ],
      "metadata": {
        "id": "NBGiyphhZ090"
      },
      "execution_count": null,
      "outputs": []
    },
    {
      "cell_type": "markdown",
      "source": [
        "**Tratamento e Análise dos Resultados**"
      ],
      "metadata": {
        "id": "9dCKCaXpIDvL"
      }
    },
    {
      "cell_type": "code",
      "source": [
        "# Tabela bem simplificada com os valores das variáveis\n",
        "# Pode ser usada para obtenção de informações - célula abaixo permite baixar no formato excel\n",
        "\n",
        "dados=list()\n",
        "\n",
        "for i in x.values():\n",
        "  # print(i,'=',i.solution_value())\n",
        "  dados.append([i,i.solution_value()])\n",
        "for i in h.values():\n",
        "  dados.append([i,i.solution_value()]) \n",
        "for i in y.values():\n",
        "   dados.append([i,i.solution_value()])\n",
        "print(dados) \n",
        "\n",
        "dff=pd.DataFrame(dados,columns=[\"Produto\",\"Quantidade\"])\n",
        "dff"
      ],
      "metadata": {
        "id": "-vfYoxK_88Q9"
      },
      "execution_count": null,
      "outputs": []
    },
    {
      "cell_type": "code",
      "source": [
        "#Baixando a tabela acima para excel.\n",
        "dff.to_excel(\"ResultadosPO.xlsx\",sheet_name=\"ResultadosPO\",index=False,header=True,na_rep=\" \")"
      ],
      "metadata": {
        "id": "_tSe4PYO-xIe"
      },
      "execution_count": null,
      "outputs": []
    },
    {
      "cell_type": "code",
      "source": [
        "\n",
        "# Alguns testes são feitos para validar se as restrições foram respeitadas\n",
        "\n",
        "#Respeitou o tempo diponível?\n",
        "tempo=np.arange(1,13,1)\n",
        "ltempo=np.zeros(12)\n",
        "ltempot=np.zeros(12)\n",
        "\n",
        "# tratando das máquinas juntas \n",
        "for j in range(0,12):\n",
        "  ltempot[j]=(sum(x[(i,k,j)].solution_value()*matriz[i][vtit] + y[(i,k,j)].solution_value()*matriz[i][stit] for i in range(0,34) for k in range(0,maq)))\n",
        "print(ltempot)\n",
        "\n",
        "\n",
        "for k in range(0,maq):\n",
        "  for j in range(0,12):\n",
        "    ltempo[j]=(sum(x[(i,k,j)].solution_value()*matriz[i][vtit] + y[(i,k,j)].solution_value()*matriz[i][stit] for i in range(0,34)))\n",
        "  print(ltempo)\n",
        "\n",
        " \n"
      ],
      "metadata": {
        "id": "FuTW5xPDTXYB"
      },
      "execution_count": null,
      "outputs": []
    },
    {
      "cell_type": "code",
      "source": [
        "# Plotando um gráfico com os tempos de produção utilizados em cada perído\n",
        "\n",
        "plt.figure(figsize=[20,7])\n",
        "plt.grid()\n",
        "plt.title(\"Capacidade temporal utilizada por período.\", fontsize=16)\n",
        "plt.xlabel(\"Mês\",labelpad=10,fontsize=16)\n",
        "plt.ylabel(\"Tempo (min)\",fontsize=16)\n",
        "plt.bar(tempo,ltempot,edgecolor='black',tick_label=tempo,width=0.75)\n",
        "plt.hlines(maq*Cap,0,13.4,colors=\"r\",label=f\"Tempo \\n total: \\n {maq*Cap} min\")\n",
        "plt.legend(loc=\"lower right\", fontsize=12)\n",
        "\n",
        "for i in range(0,12):\n",
        "  plt.text(i+0.75, ltempot[i]-4000, str(int(ltempot[i])),fontsize=12,bbox=dict(facecolor='grey',alpha=0.8))\n",
        "\n",
        "plt.show()"
      ],
      "metadata": {
        "id": "UaOjJgwAhcQk"
      },
      "execution_count": null,
      "outputs": []
    },
    {
      "cell_type": "code",
      "source": [
        "ltempo=np.zeros(12)\n",
        "for k in range(0,maq):\n",
        "  for j in range(0,12):\n",
        "    ltempo[j]=(sum(x[(i,k,j)].solution_value()*matriz[i][vtit] + y[(i,k,j)].solution_value()*matriz[i][stit] for i in range(0,34)))\n",
        "  plt.figure(figsize=[20,7])  \n",
        "  plt.grid()\n",
        "  plt.title(f\"Capacidade temporal utilizada pela máquina {k+1} por período.\", fontsize=16)\n",
        "  plt.xlabel(\"Mês\",labelpad=10,fontsize=16)\n",
        "  plt.ylabel(\"Tempo (min)\",fontsize=16)\n",
        "  plt.bar(tempo,ltempo,edgecolor='black',tick_label=tempo,width=0.75)\n",
        "  plt.scatter(0,37000,s=0.001)\n",
        "  plt.hlines(Cap,0,13.4,colors=\"r\",label=f\"Tempo \\n total: \\n {Cap} min\")\n",
        "  plt.legend(loc=\"lower right\", fontsize=12)\n",
        "\n",
        "  for i in range(0,12):\n",
        "    plt.text(i+0.75, ltempo[i]+900, str(int(ltempo[i])),fontsize=12,bbox=dict(facecolor='grey',alpha=1))\n",
        "\n",
        "  plt.show()"
      ],
      "metadata": {
        "id": "0e3nO1Xai4IT"
      },
      "execution_count": null,
      "outputs": []
    },
    {
      "cell_type": "code",
      "source": [
        " \n",
        "# cores={1:\"b\",2:\"g\"}\n",
        "ltempo1=np.zeros(12)\n",
        "ltempo2=np.zeros(12) \n",
        "if maq==2:\n",
        "  for j in range(0,12):\n",
        "    ltempo1[j]=(sum(x[(i,0,j)].solution_value()*matriz[i][vtit] + y[(i,0,j)].solution_value()*matriz[i][stit] for i in range(0,34)))\n",
        "    ltempo2[j]=(sum(x[(i,1,j)].solution_value()*matriz[i][vtit] + y[(i,1,j)].solution_value()*matriz[i][stit] for i in range(0,34)))\n",
        "\n",
        "  plt.figure(figsize=[20,7])\n",
        "  plt.grid()\n",
        "  plt.title(f\"Comparação capacidade utilizada por cada máquina por período.\", fontsize=16)\n",
        "  plt.xlabel(\"Mês\",labelpad=10,fontsize=16)\n",
        "  plt.ylabel(\"Tempo (min)\",fontsize=16)\n",
        "  plt.scatter(0,37000,s=0.001)  \n",
        "  plt.scatter(14,37000,s=0.001)  \n",
        "  plt.hlines(Cap,0,13.4,colors=\"r\",label=f\"Tempo \\n total: \\n {Cap} min\")\n",
        "\n",
        "  \n",
        "    \n",
        "  plt.bar(tempo,ltempo1,edgecolor='black',tick_label=tempo,width=0.4,color=\"g\",label=\"Máquina 1\")\n",
        "  plt.bar(tempo+0.5,ltempo2,edgecolor='black',tick_label=tempo,width=0.4,color=\"b\",label=\"Máquina 2\")\n",
        "  for i in range(0,12):\n",
        "      plt.text(i+0.75,ltempo1[i]+900, str(int(ltempo1[i])),fontsize=9,bbox=dict(facecolor='grey',alpha=1))\n",
        "      plt.text(i+1.3, ltempo2[i]+1000, str(int(ltempo2[i])),fontsize=9,bbox=dict(facecolor='grey',alpha=1))\n",
        "  \n",
        "  plt.legend(loc=\"lower right\", fontsize=12)\n",
        "  plt.show()"
      ],
      "metadata": {
        "id": "0koqoC24pTUx"
      },
      "execution_count": null,
      "outputs": []
    },
    {
      "cell_type": "code",
      "source": [
        "#Estoque total em cada mes:\n",
        "tempo2=np.arange(0,13,1)\n",
        "lh=np.zeros(13)\n",
        "\n",
        "for j in range(0,13):\n",
        "  lh[j]=sum(h[(i,j)].solution_value() for i in range(0,len(matriz)))\n",
        "print(lh)"
      ],
      "metadata": {
        "id": "Selpg7WuqfKo"
      },
      "execution_count": null,
      "outputs": []
    },
    {
      "cell_type": "code",
      "source": [
        "#Plotando o estoque total de cada mês.\n",
        "if maq==1:  \n",
        "  plt.figure(figsize=[20,7])\n",
        "  plt.grid()\n",
        "  plt.title(\"Estoque utilizado por período.\", fontsize=16)\n",
        "  plt.xlabel(\"Mês\",labelpad=5)\n",
        "  plt.ylabel(\"Quantidade\")\n",
        "  plt.bar(tempo2,lh,edgecolor='black',tick_label=tempo2)\n",
        "\n",
        "  plt.text(-0.5,850,f'Custo total de estoque: R${sum(lh)*0.5}',fontsize=16,bbox=dict(facecolor='grey',alpha=0.5))\n",
        "  plt.text(-0.5,950,f'Quantidade total de estoque: {sum(lh)}',fontsize=16,bbox=dict(facecolor='grey',alpha=0.5))\n",
        "\n",
        "  for i in range(0,12):\n",
        "    plt.text(i-0.25, lh[i] + 20, str(lh[i]),fontsize=11,bbox=dict(facecolor='grey',alpha=0.5))\n",
        "\n",
        "  plt.show()\n",
        "else:  \n",
        "  plt.figure(figsize=[20,7])\n",
        "  plt.grid()\n",
        "  plt.title(\"Estoque utilizado por período.\",fontsize=16)\n",
        "  plt.xlabel(\"Mês\",labelpad=5,fontsize=14)\n",
        "  plt.ylabel(\"Quantidade\",fontsize=14)\n",
        "  plt.bar(tempo2,lh,edgecolor='black',tick_label=tempo2)\n",
        "\n",
        "  plt.text(6,260+20,f'Custo total de estoque: R${sum(lh)*0.5}',fontsize=16,bbox=dict(facecolor='grey',alpha=0.5))\n",
        "  plt.text(6,240+20,f'Quantidade total de estoque: {sum(lh)}',fontsize=16,bbox=dict(facecolor='grey',alpha=0.5))\n",
        "\n",
        "  for i in range(0,13):\n",
        "    plt.text(i-0.25, lh[i] + 5, str(lh[i]),fontsize=11,bbox=dict(facecolor='grey',alpha=0.5))\n",
        "\n",
        "  plt.show()  "
      ],
      "metadata": {
        "id": "FUOpvXrusp7O"
      },
      "execution_count": null,
      "outputs": []
    },
    {
      "cell_type": "code",
      "source": [
        "#Quantidade total produzida em cada mês:\n",
        "tempo=np.arange(1,13,1)\n",
        "lp=np.zeros(12)\n",
        "\n",
        "for j in range(0,12):\n",
        "  lp[j]=sum(x[(i,k,j)].solution_value() for i in range(0,34) for k in range(0,maq))\n",
        "print()"
      ],
      "metadata": {
        "id": "G3b7C6kvqyxO"
      },
      "execution_count": null,
      "outputs": []
    },
    {
      "cell_type": "code",
      "source": [
        "#Plotando a quantidade produzida em cada mês.\n",
        "plt.figure(figsize=[20,7])\n",
        "plt.grid()\n",
        "plt.title(\"Produção por período.\",fontsize=16)\n",
        "plt.xlabel(\"Mês\",labelpad=5,fontsize=14)\n",
        "plt.ylabel(\"Quantidade\",fontsize=14)\n",
        "plt.bar(tempo,lp,edgecolor='black',tick_label=tempo)\n",
        "\n",
        "demanda=0\n",
        "demandat=list()\n",
        "for i in range(0,34):\n",
        "  for j in range(0,12):\n",
        "    demanda=0+matriz[i][j]\n",
        "    demandat.append(demanda)\n",
        "\n",
        "plt.text(0.25,2200,f'Total Produzido: {sum(lp)}',fontsize=16,bbox=dict(facecolor='grey',alpha=0.2))\n",
        "plt.text(0.25,2000,f'Soma da Demanda: {sum(demandat)}',fontsize=16,bbox=dict(facecolor='grey',alpha=0.2))\n",
        "for i in range(0,12):\n",
        "  plt.text(i+0.8, lp[i] + 50, str(int(lp[i])),fontsize=11,bbox=dict(facecolor='grey',alpha=0.5))\n",
        "plt.show()\n",
        "\n"
      ],
      "metadata": {
        "id": "uKQ2TzxymRJk"
      },
      "execution_count": null,
      "outputs": []
    },
    {
      "cell_type": "code",
      "source": [
        "lp1=np.zeros(12)\n",
        "lp2=np.zeros(12)\n",
        "if maq==2:\n",
        "  for j in range(0,12):\n",
        "    lp1[j]=sum(x[(i,0,j)].solution_value() for i in range(0,34))\n",
        "    lp2[j]=sum(x[(i,1,j)].solution_value() for i in range(0,34))\n",
        "\n",
        "  plt.figure(figsize=[20,7])\n",
        "  plt.grid()\n",
        "  plt.title(f\"Total produzido por cada máquina por período.\", fontsize=16)\n",
        "  plt.xlabel(\"Mês\",labelpad=10,fontsize=16)\n",
        "  plt.ylabel(\"Tempo (min)\",fontsize=16)\n",
        "  plt.scatter(14,2500,s=0.001)  \n",
        "  plt.scatter(14,2000,s=0.001)  \n",
        "\n",
        "\n",
        "  \n",
        "    \n",
        "  plt.bar(tempo,lp1,edgecolor='black',tick_label=tempo,width=0.4,color=\"g\",label=\"Máquina 1\")\n",
        "  plt.bar(tempo+0.5,lp2,edgecolor='black',tick_label=tempo,width=0.4,color=\"b\",label=\"Máquina 2\")\n",
        "  for i in range(0,12):\n",
        "      plt.text(i+0.9,lp1[i]+55, str(int(lp1[i])),fontsize=9,bbox=dict(facecolor='grey',alpha=1))\n",
        "      plt.text(i+1.4, lp2[i]+55, str(int(lp2[i])),fontsize=9,bbox=dict(facecolor='grey',alpha=1))\n",
        "  plt.text(1,2250, f\"Total Produzido Máquina 1 {str(int(sum(lp1)))}\",fontsize=14,bbox=dict(facecolor='g',alpha=0.5))\n",
        "  plt.text(1,2050 ,f\"Total Produzido Máquina 2 {str(int(sum(lp2)))}\",fontsize=14,bbox=dict(facecolor='b',alpha=0.5)) \n",
        "  plt.legend(loc=\"lower right\", fontsize=12)\n",
        "  plt.show()"
      ],
      "metadata": {
        "id": "_ppan8NGxyrB"
      },
      "execution_count": null,
      "outputs": []
    }
  ]
}